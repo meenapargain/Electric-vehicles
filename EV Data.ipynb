{
 "cells": [
  {
   "cell_type": "code",
   "execution_count": 1,
   "metadata": {},
   "outputs": [],
   "source": [
    "import pandas as pd\n",
    "import numpy as np\n",
    "import matplotlib.pyplot as plt\n",
    "import seaborn as sns"
   ]
  },
  {
   "cell_type": "code",
   "execution_count": 2,
   "metadata": {},
   "outputs": [
    {
     "data": {
      "text/html": [
       "<div>\n",
       "<style scoped>\n",
       "    .dataframe tbody tr th:only-of-type {\n",
       "        vertical-align: middle;\n",
       "    }\n",
       "\n",
       "    .dataframe tbody tr th {\n",
       "        vertical-align: top;\n",
       "    }\n",
       "\n",
       "    .dataframe thead th {\n",
       "        text-align: right;\n",
       "    }\n",
       "</style>\n",
       "<table border=\"1\" class=\"dataframe\">\n",
       "  <thead>\n",
       "    <tr style=\"text-align: right;\">\n",
       "      <th></th>\n",
       "      <th>record_type</th>\n",
       "      <th>vin</th>\n",
       "      <th>registration_class</th>\n",
       "      <th>city</th>\n",
       "      <th>state</th>\n",
       "      <th>zip</th>\n",
       "      <th>county</th>\n",
       "      <th>model_year</th>\n",
       "      <th>make</th>\n",
       "      <th>body_type</th>\n",
       "      <th>fuel_type</th>\n",
       "      <th>unladen_weight</th>\n",
       "      <th>maximum_gross_weight</th>\n",
       "      <th>passengers</th>\n",
       "      <th>reg_valid_date</th>\n",
       "      <th>reg_expiration_date</th>\n",
       "      <th>color</th>\n",
       "      <th>scofflaw_indicator</th>\n",
       "      <th>suspension_indicator</th>\n",
       "      <th>revocation_indicator</th>\n",
       "    </tr>\n",
       "  </thead>\n",
       "  <tbody>\n",
       "    <tr>\n",
       "      <th>0</th>\n",
       "      <td>VEH</td>\n",
       "      <td>96722014661</td>\n",
       "      <td>SRF</td>\n",
       "      <td>BOVINA</td>\n",
       "      <td>NY</td>\n",
       "      <td>13740</td>\n",
       "      <td>DELAWARE</td>\n",
       "      <td>1972</td>\n",
       "      <td>SAAB</td>\n",
       "      <td>2DSD</td>\n",
       "      <td>ELECTRIC</td>\n",
       "      <td>2000.0</td>\n",
       "      <td>NaN</td>\n",
       "      <td>NaN</td>\n",
       "      <td>2021-05-04</td>\n",
       "      <td>2023-06-26</td>\n",
       "      <td>WH</td>\n",
       "      <td>N</td>\n",
       "      <td>N</td>\n",
       "      <td>N</td>\n",
       "    </tr>\n",
       "    <tr>\n",
       "      <th>1</th>\n",
       "      <td>VEH</td>\n",
       "      <td>9106843</td>\n",
       "      <td>SRF</td>\n",
       "      <td>GLENDALE</td>\n",
       "      <td>NY</td>\n",
       "      <td>11385</td>\n",
       "      <td>QUEENS</td>\n",
       "      <td>1974</td>\n",
       "      <td>EVA</td>\n",
       "      <td>4DSD</td>\n",
       "      <td>ELECTRIC</td>\n",
       "      <td>2180.0</td>\n",
       "      <td>NaN</td>\n",
       "      <td>NaN</td>\n",
       "      <td>2021-09-21</td>\n",
       "      <td>2023-10-03</td>\n",
       "      <td>BR</td>\n",
       "      <td>N</td>\n",
       "      <td>N</td>\n",
       "      <td>N</td>\n",
       "    </tr>\n",
       "    <tr>\n",
       "      <th>2</th>\n",
       "      <td>VEH</td>\n",
       "      <td>909SR2223A</td>\n",
       "      <td>SRF</td>\n",
       "      <td>STAFFORD</td>\n",
       "      <td>NY</td>\n",
       "      <td>14143</td>\n",
       "      <td>GENESEE</td>\n",
       "      <td>1979</td>\n",
       "      <td>CITIC</td>\n",
       "      <td>2DSD</td>\n",
       "      <td>ELECTRIC</td>\n",
       "      <td>850.0</td>\n",
       "      <td>NaN</td>\n",
       "      <td>NaN</td>\n",
       "      <td>2021-05-12</td>\n",
       "      <td>2023-04-01</td>\n",
       "      <td>GR</td>\n",
       "      <td>N</td>\n",
       "      <td>N</td>\n",
       "      <td>N</td>\n",
       "    </tr>\n",
       "    <tr>\n",
       "      <th>3</th>\n",
       "      <td>VEH</td>\n",
       "      <td>9E2SPAXBC113501</td>\n",
       "      <td>PSD</td>\n",
       "      <td>JOHNSTOWN</td>\n",
       "      <td>NY</td>\n",
       "      <td>12095</td>\n",
       "      <td>FULTON</td>\n",
       "      <td>2012</td>\n",
       "      <td>VANTA</td>\n",
       "      <td>PICK</td>\n",
       "      <td>ELECTRIC</td>\n",
       "      <td>1900.0</td>\n",
       "      <td>NaN</td>\n",
       "      <td>NaN</td>\n",
       "      <td>2014-07-01</td>\n",
       "      <td>NaN</td>\n",
       "      <td>WH</td>\n",
       "      <td>N</td>\n",
       "      <td>N</td>\n",
       "      <td>N</td>\n",
       "    </tr>\n",
       "    <tr>\n",
       "      <th>4</th>\n",
       "      <td>VEH</td>\n",
       "      <td>9A204759</td>\n",
       "      <td>SPC</td>\n",
       "      <td>BROOKLYN</td>\n",
       "      <td>NY</td>\n",
       "      <td>11211</td>\n",
       "      <td>KINGS</td>\n",
       "      <td>2014</td>\n",
       "      <td>CROWN</td>\n",
       "      <td>P/SH</td>\n",
       "      <td>ELECTRIC</td>\n",
       "      <td>3335.0</td>\n",
       "      <td>NaN</td>\n",
       "      <td>NaN</td>\n",
       "      <td>2021-12-09</td>\n",
       "      <td>2022-12-31</td>\n",
       "      <td>WH</td>\n",
       "      <td>N</td>\n",
       "      <td>N</td>\n",
       "      <td>N</td>\n",
       "    </tr>\n",
       "  </tbody>\n",
       "</table>\n",
       "</div>"
      ],
      "text/plain": [
       "  record_type              vin registration_class       city state    zip  \\\n",
       "0         VEH      96722014661                SRF     BOVINA    NY  13740   \n",
       "1         VEH          9106843                SRF   GLENDALE    NY  11385   \n",
       "2         VEH       909SR2223A                SRF   STAFFORD    NY  14143   \n",
       "3         VEH  9E2SPAXBC113501                PSD  JOHNSTOWN    NY  12095   \n",
       "4         VEH         9A204759                SPC   BROOKLYN    NY  11211   \n",
       "\n",
       "     county  model_year   make body_type fuel_type  unladen_weight  \\\n",
       "0  DELAWARE        1972   SAAB      2DSD  ELECTRIC          2000.0   \n",
       "1    QUEENS        1974    EVA      4DSD  ELECTRIC          2180.0   \n",
       "2   GENESEE        1979  CITIC      2DSD  ELECTRIC           850.0   \n",
       "3    FULTON        2012  VANTA      PICK  ELECTRIC          1900.0   \n",
       "4     KINGS        2014  CROWN      P/SH  ELECTRIC          3335.0   \n",
       "\n",
       "   maximum_gross_weight  passengers reg_valid_date reg_expiration_date color  \\\n",
       "0                   NaN         NaN     2021-05-04          2023-06-26    WH   \n",
       "1                   NaN         NaN     2021-09-21          2023-10-03    BR   \n",
       "2                   NaN         NaN     2021-05-12          2023-04-01    GR   \n",
       "3                   NaN         NaN     2014-07-01                 NaN    WH   \n",
       "4                   NaN         NaN     2021-12-09          2022-12-31    WH   \n",
       "\n",
       "  scofflaw_indicator suspension_indicator revocation_indicator  \n",
       "0                  N                    N                    N  \n",
       "1                  N                    N                    N  \n",
       "2                  N                    N                    N  \n",
       "3                  N                    N                    N  \n",
       "4                  N                    N                    N  "
      ]
     },
     "execution_count": 2,
     "metadata": {},
     "output_type": "execute_result"
    }
   ],
   "source": [
    "nys_electric_vehicle_registrations=pd.read_csv('nys_electric_vehicle_registrations.csv')\n",
    "nys_electric_vehicle_registrations.head()"
   ]
  },
  {
   "cell_type": "code",
   "execution_count": 3,
   "metadata": {},
   "outputs": [
    {
     "data": {
      "text/plain": [
       "(62063, 20)"
      ]
     },
     "execution_count": 3,
     "metadata": {},
     "output_type": "execute_result"
    }
   ],
   "source": [
    "nys_electric_vehicle_registrations.shape"
   ]
  },
  {
   "cell_type": "code",
   "execution_count": 4,
   "metadata": {},
   "outputs": [
    {
     "name": "stdout",
     "output_type": "stream",
     "text": [
      "<class 'pandas.core.frame.DataFrame'>\n",
      "RangeIndex: 62063 entries, 0 to 62062\n",
      "Data columns (total 20 columns):\n",
      " #   Column                Non-Null Count  Dtype  \n",
      "---  ------                --------------  -----  \n",
      " 0   record_type           62063 non-null  object \n",
      " 1   vin                   62063 non-null  object \n",
      " 2   registration_class    62063 non-null  object \n",
      " 3   city                  62063 non-null  object \n",
      " 4   state                 62063 non-null  object \n",
      " 5   zip                   62063 non-null  int64  \n",
      " 6   county                62063 non-null  object \n",
      " 7   model_year            62063 non-null  int64  \n",
      " 8   make                  62063 non-null  object \n",
      " 9   body_type             62063 non-null  object \n",
      " 10  fuel_type             62063 non-null  object \n",
      " 11  unladen_weight        60844 non-null  float64\n",
      " 12  maximum_gross_weight  180 non-null    float64\n",
      " 13  passengers            1039 non-null   float64\n",
      " 14  reg_valid_date        62063 non-null  object \n",
      " 15  reg_expiration_date   59306 non-null  object \n",
      " 16  color                 62063 non-null  object \n",
      " 17  scofflaw_indicator    62063 non-null  object \n",
      " 18  suspension_indicator  62063 non-null  object \n",
      " 19  revocation_indicator  62063 non-null  object \n",
      "dtypes: float64(3), int64(2), object(15)\n",
      "memory usage: 9.5+ MB\n"
     ]
    }
   ],
   "source": [
    "nys_electric_vehicle_registrations.info()"
   ]
  },
  {
   "cell_type": "code",
   "execution_count": 5,
   "metadata": {},
   "outputs": [
    {
     "data": {
      "text/plain": [
       "BROOKLYN         10275\n",
       "NEW YORK          3300\n",
       "BRONX             1689\n",
       "STATEN ISLAND     1276\n",
       "ROCHESTER         1120\n",
       "                 ...  \n",
       "CENTERREACH          1\n",
       "MORRISVILLE          1\n",
       "MORRISTOWN           1\n",
       "FISHERS ISLE         1\n",
       "PLEASANT VAL         1\n",
       "Name: city, Length: 1986, dtype: int64"
      ]
     },
     "execution_count": 5,
     "metadata": {},
     "output_type": "execute_result"
    }
   ],
   "source": [
    "nys_electric_vehicle_registrations.city.value_counts()"
   ]
  },
  {
   "cell_type": "code",
   "execution_count": 6,
   "metadata": {},
   "outputs": [
    {
     "data": {
      "text/plain": [
       "record_type                 0\n",
       "vin                         0\n",
       "registration_class          0\n",
       "city                        0\n",
       "state                       0\n",
       "zip                         0\n",
       "county                      0\n",
       "model_year                  0\n",
       "make                        0\n",
       "body_type                   0\n",
       "fuel_type                   0\n",
       "unladen_weight           1219\n",
       "maximum_gross_weight    61883\n",
       "passengers              61024\n",
       "reg_valid_date              0\n",
       "reg_expiration_date      2757\n",
       "color                       0\n",
       "scofflaw_indicator          0\n",
       "suspension_indicator        0\n",
       "revocation_indicator        0\n",
       "dtype: int64"
      ]
     },
     "execution_count": 6,
     "metadata": {},
     "output_type": "execute_result"
    }
   ],
   "source": [
    "nys_electric_vehicle_registrations.isnull().sum()"
   ]
  },
  {
   "cell_type": "code",
   "execution_count": 9,
   "metadata": {},
   "outputs": [],
   "source": [
    "nys_electric_vehicle_registrations=nys_electric_vehicle_registrations.dropna()"
   ]
  },
  {
   "cell_type": "code",
   "execution_count": 10,
   "metadata": {},
   "outputs": [
    {
     "data": {
      "text/plain": [
       "record_type             0\n",
       "vin                     0\n",
       "registration_class      0\n",
       "city                    0\n",
       "state                   0\n",
       "zip                     0\n",
       "county                  0\n",
       "model_year              0\n",
       "make                    0\n",
       "body_type               0\n",
       "fuel_type               0\n",
       "unladen_weight          0\n",
       "maximum_gross_weight    0\n",
       "passengers              0\n",
       "reg_valid_date          0\n",
       "reg_expiration_date     0\n",
       "color                   0\n",
       "scofflaw_indicator      0\n",
       "suspension_indicator    0\n",
       "revocation_indicator    0\n",
       "dtype: int64"
      ]
     },
     "execution_count": 10,
     "metadata": {},
     "output_type": "execute_result"
    }
   ],
   "source": [
    "nys_electric_vehicle_registrations.isnull().sum()"
   ]
  },
  {
   "cell_type": "code",
   "execution_count": null,
   "metadata": {},
   "outputs": [],
   "source": []
  }
 ],
 "metadata": {
  "kernelspec": {
   "display_name": "Python 3",
   "language": "python",
   "name": "python3"
  },
  "language_info": {
   "codemirror_mode": {
    "name": "ipython",
    "version": 3
   },
   "file_extension": ".py",
   "mimetype": "text/x-python",
   "name": "python",
   "nbconvert_exporter": "python",
   "pygments_lexer": "ipython3",
   "version": "3.8.5"
  }
 },
 "nbformat": 4,
 "nbformat_minor": 4
}
